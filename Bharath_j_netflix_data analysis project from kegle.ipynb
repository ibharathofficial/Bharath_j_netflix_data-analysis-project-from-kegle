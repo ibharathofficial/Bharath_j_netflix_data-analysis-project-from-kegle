{
 "cells": [
  {
   "cell_type": "markdown",
   "id": "c3ba5692",
   "metadata": {},
   "source": [
    "# import necessary libraries"
   ]
  },
  {
   "cell_type": "code",
   "execution_count": 205,
   "id": "52d8ddbd",
   "metadata": {},
   "outputs": [],
   "source": [
    "import pandas as pd\n",
    "import matplotlib.pyplot as plt\n",
    "import seaborn as sns\n",
    "import numpy as np"
   ]
  },
  {
   "cell_type": "markdown",
   "id": "2e21317d",
   "metadata": {},
   "source": [
    "# read dataset."
   ]
  },
  {
   "cell_type": "code",
   "execution_count": 206,
   "id": "f85ce3af",
   "metadata": {},
   "outputs": [
    {
     "data": {
      "text/html": [
       "<div>\n",
       "<style scoped>\n",
       "    .dataframe tbody tr th:only-of-type {\n",
       "        vertical-align: middle;\n",
       "    }\n",
       "\n",
       "    .dataframe tbody tr th {\n",
       "        vertical-align: top;\n",
       "    }\n",
       "\n",
       "    .dataframe thead th {\n",
       "        text-align: right;\n",
       "    }\n",
       "</style>\n",
       "<table border=\"1\" class=\"dataframe\">\n",
       "  <thead>\n",
       "    <tr style=\"text-align: right;\">\n",
       "      <th></th>\n",
       "      <th>User ID</th>\n",
       "      <th>Subscription Type</th>\n",
       "      <th>Monthly Revenue</th>\n",
       "      <th>Join Date</th>\n",
       "      <th>Last Payment Date</th>\n",
       "      <th>Country</th>\n",
       "      <th>Age</th>\n",
       "      <th>Gender</th>\n",
       "      <th>Device</th>\n",
       "      <th>Plan Duration</th>\n",
       "    </tr>\n",
       "  </thead>\n",
       "  <tbody>\n",
       "    <tr>\n",
       "      <th>0</th>\n",
       "      <td>1</td>\n",
       "      <td>Basic</td>\n",
       "      <td>10</td>\n",
       "      <td>15-01-22</td>\n",
       "      <td>10-06-23</td>\n",
       "      <td>United States</td>\n",
       "      <td>28</td>\n",
       "      <td>Male</td>\n",
       "      <td>Smartphone</td>\n",
       "      <td>1 Month</td>\n",
       "    </tr>\n",
       "    <tr>\n",
       "      <th>1</th>\n",
       "      <td>2</td>\n",
       "      <td>Premium</td>\n",
       "      <td>15</td>\n",
       "      <td>05-09-21</td>\n",
       "      <td>22-06-23</td>\n",
       "      <td>Canada</td>\n",
       "      <td>35</td>\n",
       "      <td>Female</td>\n",
       "      <td>Tablet</td>\n",
       "      <td>1 Month</td>\n",
       "    </tr>\n",
       "    <tr>\n",
       "      <th>2</th>\n",
       "      <td>3</td>\n",
       "      <td>Standard</td>\n",
       "      <td>12</td>\n",
       "      <td>28-02-23</td>\n",
       "      <td>27-06-23</td>\n",
       "      <td>United Kingdom</td>\n",
       "      <td>42</td>\n",
       "      <td>Male</td>\n",
       "      <td>Smart TV</td>\n",
       "      <td>1 Month</td>\n",
       "    </tr>\n",
       "    <tr>\n",
       "      <th>3</th>\n",
       "      <td>4</td>\n",
       "      <td>Standard</td>\n",
       "      <td>12</td>\n",
       "      <td>10-07-22</td>\n",
       "      <td>26-06-23</td>\n",
       "      <td>Australia</td>\n",
       "      <td>51</td>\n",
       "      <td>Female</td>\n",
       "      <td>Laptop</td>\n",
       "      <td>1 Month</td>\n",
       "    </tr>\n",
       "    <tr>\n",
       "      <th>4</th>\n",
       "      <td>5</td>\n",
       "      <td>Basic</td>\n",
       "      <td>10</td>\n",
       "      <td>01-05-23</td>\n",
       "      <td>28-06-23</td>\n",
       "      <td>Germany</td>\n",
       "      <td>33</td>\n",
       "      <td>Male</td>\n",
       "      <td>Smartphone</td>\n",
       "      <td>1 Month</td>\n",
       "    </tr>\n",
       "    <tr>\n",
       "      <th>...</th>\n",
       "      <td>...</td>\n",
       "      <td>...</td>\n",
       "      <td>...</td>\n",
       "      <td>...</td>\n",
       "      <td>...</td>\n",
       "      <td>...</td>\n",
       "      <td>...</td>\n",
       "      <td>...</td>\n",
       "      <td>...</td>\n",
       "      <td>...</td>\n",
       "    </tr>\n",
       "    <tr>\n",
       "      <th>2495</th>\n",
       "      <td>2496</td>\n",
       "      <td>Premium</td>\n",
       "      <td>14</td>\n",
       "      <td>25-07-22</td>\n",
       "      <td>12-07-23</td>\n",
       "      <td>Spain</td>\n",
       "      <td>28</td>\n",
       "      <td>Female</td>\n",
       "      <td>Smart TV</td>\n",
       "      <td>1 Month</td>\n",
       "    </tr>\n",
       "    <tr>\n",
       "      <th>2496</th>\n",
       "      <td>2497</td>\n",
       "      <td>Basic</td>\n",
       "      <td>15</td>\n",
       "      <td>04-08-22</td>\n",
       "      <td>14-07-23</td>\n",
       "      <td>Spain</td>\n",
       "      <td>33</td>\n",
       "      <td>Female</td>\n",
       "      <td>Smart TV</td>\n",
       "      <td>1 Month</td>\n",
       "    </tr>\n",
       "    <tr>\n",
       "      <th>2497</th>\n",
       "      <td>2498</td>\n",
       "      <td>Standard</td>\n",
       "      <td>12</td>\n",
       "      <td>09-08-22</td>\n",
       "      <td>15-07-23</td>\n",
       "      <td>United States</td>\n",
       "      <td>38</td>\n",
       "      <td>Male</td>\n",
       "      <td>Laptop</td>\n",
       "      <td>1 Month</td>\n",
       "    </tr>\n",
       "    <tr>\n",
       "      <th>2498</th>\n",
       "      <td>2499</td>\n",
       "      <td>Standard</td>\n",
       "      <td>13</td>\n",
       "      <td>12-08-22</td>\n",
       "      <td>12-07-23</td>\n",
       "      <td>Canada</td>\n",
       "      <td>48</td>\n",
       "      <td>Female</td>\n",
       "      <td>Tablet</td>\n",
       "      <td>1 Month</td>\n",
       "    </tr>\n",
       "    <tr>\n",
       "      <th>2499</th>\n",
       "      <td>2500</td>\n",
       "      <td>Basic</td>\n",
       "      <td>15</td>\n",
       "      <td>13-08-22</td>\n",
       "      <td>12-07-23</td>\n",
       "      <td>United States</td>\n",
       "      <td>35</td>\n",
       "      <td>Female</td>\n",
       "      <td>Smart TV</td>\n",
       "      <td>1 Month</td>\n",
       "    </tr>\n",
       "  </tbody>\n",
       "</table>\n",
       "<p>2500 rows × 10 columns</p>\n",
       "</div>"
      ],
      "text/plain": [
       "      User ID Subscription Type  Monthly Revenue Join Date Last Payment Date  \\\n",
       "0           1             Basic               10  15-01-22          10-06-23   \n",
       "1           2           Premium               15  05-09-21          22-06-23   \n",
       "2           3          Standard               12  28-02-23          27-06-23   \n",
       "3           4          Standard               12  10-07-22          26-06-23   \n",
       "4           5             Basic               10  01-05-23          28-06-23   \n",
       "...       ...               ...              ...       ...               ...   \n",
       "2495     2496           Premium               14  25-07-22          12-07-23   \n",
       "2496     2497             Basic               15  04-08-22          14-07-23   \n",
       "2497     2498          Standard               12  09-08-22          15-07-23   \n",
       "2498     2499          Standard               13  12-08-22          12-07-23   \n",
       "2499     2500             Basic               15  13-08-22          12-07-23   \n",
       "\n",
       "             Country  Age  Gender      Device Plan Duration  \n",
       "0      United States   28    Male  Smartphone       1 Month  \n",
       "1             Canada   35  Female      Tablet       1 Month  \n",
       "2     United Kingdom   42    Male    Smart TV       1 Month  \n",
       "3          Australia   51  Female      Laptop       1 Month  \n",
       "4            Germany   33    Male  Smartphone       1 Month  \n",
       "...              ...  ...     ...         ...           ...  \n",
       "2495           Spain   28  Female    Smart TV       1 Month  \n",
       "2496           Spain   33  Female    Smart TV       1 Month  \n",
       "2497   United States   38    Male      Laptop       1 Month  \n",
       "2498          Canada   48  Female      Tablet       1 Month  \n",
       "2499   United States   35  Female    Smart TV       1 Month  \n",
       "\n",
       "[2500 rows x 10 columns]"
      ]
     },
     "execution_count": 206,
     "metadata": {},
     "output_type": "execute_result"
    }
   ],
   "source": [
    "data=pd.read_csv(\"C:/Users/TRIMURTHI/Downloads/archive (5)/Netflix Userbase.csv\")\n",
    "data"
   ]
  },
  {
   "cell_type": "markdown",
   "id": "7177233d",
   "metadata": {},
   "source": [
    "# display first top data from dataset."
   ]
  },
  {
   "cell_type": "code",
   "execution_count": 207,
   "id": "91b09875",
   "metadata": {},
   "outputs": [
    {
     "data": {
      "text/html": [
       "<div>\n",
       "<style scoped>\n",
       "    .dataframe tbody tr th:only-of-type {\n",
       "        vertical-align: middle;\n",
       "    }\n",
       "\n",
       "    .dataframe tbody tr th {\n",
       "        vertical-align: top;\n",
       "    }\n",
       "\n",
       "    .dataframe thead th {\n",
       "        text-align: right;\n",
       "    }\n",
       "</style>\n",
       "<table border=\"1\" class=\"dataframe\">\n",
       "  <thead>\n",
       "    <tr style=\"text-align: right;\">\n",
       "      <th></th>\n",
       "      <th>User ID</th>\n",
       "      <th>Subscription Type</th>\n",
       "      <th>Monthly Revenue</th>\n",
       "      <th>Join Date</th>\n",
       "      <th>Last Payment Date</th>\n",
       "      <th>Country</th>\n",
       "      <th>Age</th>\n",
       "      <th>Gender</th>\n",
       "      <th>Device</th>\n",
       "      <th>Plan Duration</th>\n",
       "    </tr>\n",
       "  </thead>\n",
       "  <tbody>\n",
       "    <tr>\n",
       "      <th>0</th>\n",
       "      <td>1</td>\n",
       "      <td>Basic</td>\n",
       "      <td>10</td>\n",
       "      <td>15-01-22</td>\n",
       "      <td>10-06-23</td>\n",
       "      <td>United States</td>\n",
       "      <td>28</td>\n",
       "      <td>Male</td>\n",
       "      <td>Smartphone</td>\n",
       "      <td>1 Month</td>\n",
       "    </tr>\n",
       "    <tr>\n",
       "      <th>1</th>\n",
       "      <td>2</td>\n",
       "      <td>Premium</td>\n",
       "      <td>15</td>\n",
       "      <td>05-09-21</td>\n",
       "      <td>22-06-23</td>\n",
       "      <td>Canada</td>\n",
       "      <td>35</td>\n",
       "      <td>Female</td>\n",
       "      <td>Tablet</td>\n",
       "      <td>1 Month</td>\n",
       "    </tr>\n",
       "    <tr>\n",
       "      <th>2</th>\n",
       "      <td>3</td>\n",
       "      <td>Standard</td>\n",
       "      <td>12</td>\n",
       "      <td>28-02-23</td>\n",
       "      <td>27-06-23</td>\n",
       "      <td>United Kingdom</td>\n",
       "      <td>42</td>\n",
       "      <td>Male</td>\n",
       "      <td>Smart TV</td>\n",
       "      <td>1 Month</td>\n",
       "    </tr>\n",
       "    <tr>\n",
       "      <th>3</th>\n",
       "      <td>4</td>\n",
       "      <td>Standard</td>\n",
       "      <td>12</td>\n",
       "      <td>10-07-22</td>\n",
       "      <td>26-06-23</td>\n",
       "      <td>Australia</td>\n",
       "      <td>51</td>\n",
       "      <td>Female</td>\n",
       "      <td>Laptop</td>\n",
       "      <td>1 Month</td>\n",
       "    </tr>\n",
       "    <tr>\n",
       "      <th>4</th>\n",
       "      <td>5</td>\n",
       "      <td>Basic</td>\n",
       "      <td>10</td>\n",
       "      <td>01-05-23</td>\n",
       "      <td>28-06-23</td>\n",
       "      <td>Germany</td>\n",
       "      <td>33</td>\n",
       "      <td>Male</td>\n",
       "      <td>Smartphone</td>\n",
       "      <td>1 Month</td>\n",
       "    </tr>\n",
       "    <tr>\n",
       "      <th>5</th>\n",
       "      <td>6</td>\n",
       "      <td>Premium</td>\n",
       "      <td>15</td>\n",
       "      <td>18-03-22</td>\n",
       "      <td>27-06-23</td>\n",
       "      <td>France</td>\n",
       "      <td>29</td>\n",
       "      <td>Female</td>\n",
       "      <td>Smart TV</td>\n",
       "      <td>1 Month</td>\n",
       "    </tr>\n",
       "    <tr>\n",
       "      <th>6</th>\n",
       "      <td>7</td>\n",
       "      <td>Standard</td>\n",
       "      <td>12</td>\n",
       "      <td>09-12-21</td>\n",
       "      <td>25-06-23</td>\n",
       "      <td>Brazil</td>\n",
       "      <td>46</td>\n",
       "      <td>Male</td>\n",
       "      <td>Tablet</td>\n",
       "      <td>1 Month</td>\n",
       "    </tr>\n",
       "    <tr>\n",
       "      <th>7</th>\n",
       "      <td>8</td>\n",
       "      <td>Basic</td>\n",
       "      <td>10</td>\n",
       "      <td>02-04-23</td>\n",
       "      <td>24-06-23</td>\n",
       "      <td>Mexico</td>\n",
       "      <td>39</td>\n",
       "      <td>Female</td>\n",
       "      <td>Laptop</td>\n",
       "      <td>1 Month</td>\n",
       "    </tr>\n",
       "    <tr>\n",
       "      <th>8</th>\n",
       "      <td>9</td>\n",
       "      <td>Standard</td>\n",
       "      <td>12</td>\n",
       "      <td>20-10-22</td>\n",
       "      <td>23-06-23</td>\n",
       "      <td>Spain</td>\n",
       "      <td>37</td>\n",
       "      <td>Male</td>\n",
       "      <td>Smartphone</td>\n",
       "      <td>1 Month</td>\n",
       "    </tr>\n",
       "    <tr>\n",
       "      <th>9</th>\n",
       "      <td>10</td>\n",
       "      <td>Premium</td>\n",
       "      <td>15</td>\n",
       "      <td>07-01-23</td>\n",
       "      <td>22-06-23</td>\n",
       "      <td>Italy</td>\n",
       "      <td>44</td>\n",
       "      <td>Female</td>\n",
       "      <td>Smart TV</td>\n",
       "      <td>1 Month</td>\n",
       "    </tr>\n",
       "  </tbody>\n",
       "</table>\n",
       "</div>"
      ],
      "text/plain": [
       "   User ID Subscription Type  Monthly Revenue Join Date Last Payment Date  \\\n",
       "0        1             Basic               10  15-01-22          10-06-23   \n",
       "1        2           Premium               15  05-09-21          22-06-23   \n",
       "2        3          Standard               12  28-02-23          27-06-23   \n",
       "3        4          Standard               12  10-07-22          26-06-23   \n",
       "4        5             Basic               10  01-05-23          28-06-23   \n",
       "5        6           Premium               15  18-03-22          27-06-23   \n",
       "6        7          Standard               12  09-12-21          25-06-23   \n",
       "7        8             Basic               10  02-04-23          24-06-23   \n",
       "8        9          Standard               12  20-10-22          23-06-23   \n",
       "9       10           Premium               15  07-01-23          22-06-23   \n",
       "\n",
       "          Country  Age  Gender      Device Plan Duration  \n",
       "0   United States   28    Male  Smartphone       1 Month  \n",
       "1          Canada   35  Female      Tablet       1 Month  \n",
       "2  United Kingdom   42    Male    Smart TV       1 Month  \n",
       "3       Australia   51  Female      Laptop       1 Month  \n",
       "4         Germany   33    Male  Smartphone       1 Month  \n",
       "5          France   29  Female    Smart TV       1 Month  \n",
       "6          Brazil   46    Male      Tablet       1 Month  \n",
       "7          Mexico   39  Female      Laptop       1 Month  \n",
       "8           Spain   37    Male  Smartphone       1 Month  \n",
       "9           Italy   44  Female    Smart TV       1 Month  "
      ]
     },
     "execution_count": 207,
     "metadata": {},
     "output_type": "execute_result"
    }
   ],
   "source": [
    "data.head(10)"
   ]
  },
  {
   "cell_type": "markdown",
   "id": "de2a8dd3",
   "metadata": {},
   "source": [
    "# display bottom few data from dataset."
   ]
  },
  {
   "cell_type": "code",
   "execution_count": 208,
   "id": "2ccc9e77",
   "metadata": {},
   "outputs": [
    {
     "data": {
      "text/html": [
       "<div>\n",
       "<style scoped>\n",
       "    .dataframe tbody tr th:only-of-type {\n",
       "        vertical-align: middle;\n",
       "    }\n",
       "\n",
       "    .dataframe tbody tr th {\n",
       "        vertical-align: top;\n",
       "    }\n",
       "\n",
       "    .dataframe thead th {\n",
       "        text-align: right;\n",
       "    }\n",
       "</style>\n",
       "<table border=\"1\" class=\"dataframe\">\n",
       "  <thead>\n",
       "    <tr style=\"text-align: right;\">\n",
       "      <th></th>\n",
       "      <th>User ID</th>\n",
       "      <th>Subscription Type</th>\n",
       "      <th>Monthly Revenue</th>\n",
       "      <th>Join Date</th>\n",
       "      <th>Last Payment Date</th>\n",
       "      <th>Country</th>\n",
       "      <th>Age</th>\n",
       "      <th>Gender</th>\n",
       "      <th>Device</th>\n",
       "      <th>Plan Duration</th>\n",
       "    </tr>\n",
       "  </thead>\n",
       "  <tbody>\n",
       "    <tr>\n",
       "      <th>2490</th>\n",
       "      <td>2491</td>\n",
       "      <td>Premium</td>\n",
       "      <td>13</td>\n",
       "      <td>18-07-22</td>\n",
       "      <td>11-07-23</td>\n",
       "      <td>France</td>\n",
       "      <td>41</td>\n",
       "      <td>Female</td>\n",
       "      <td>Smartphone</td>\n",
       "      <td>1 Month</td>\n",
       "    </tr>\n",
       "    <tr>\n",
       "      <th>2491</th>\n",
       "      <td>2492</td>\n",
       "      <td>Basic</td>\n",
       "      <td>14</td>\n",
       "      <td>19-07-22</td>\n",
       "      <td>12-07-23</td>\n",
       "      <td>Brazil</td>\n",
       "      <td>29</td>\n",
       "      <td>Female</td>\n",
       "      <td>Laptop</td>\n",
       "      <td>1 Month</td>\n",
       "    </tr>\n",
       "    <tr>\n",
       "      <th>2492</th>\n",
       "      <td>2493</td>\n",
       "      <td>Standard</td>\n",
       "      <td>11</td>\n",
       "      <td>20-07-22</td>\n",
       "      <td>11-07-23</td>\n",
       "      <td>Mexico</td>\n",
       "      <td>33</td>\n",
       "      <td>Male</td>\n",
       "      <td>Smart TV</td>\n",
       "      <td>1 Month</td>\n",
       "    </tr>\n",
       "    <tr>\n",
       "      <th>2493</th>\n",
       "      <td>2494</td>\n",
       "      <td>Premium</td>\n",
       "      <td>12</td>\n",
       "      <td>21-07-22</td>\n",
       "      <td>15-07-23</td>\n",
       "      <td>Spain</td>\n",
       "      <td>36</td>\n",
       "      <td>Male</td>\n",
       "      <td>Smart TV</td>\n",
       "      <td>1 Month</td>\n",
       "    </tr>\n",
       "    <tr>\n",
       "      <th>2494</th>\n",
       "      <td>2495</td>\n",
       "      <td>Basic</td>\n",
       "      <td>15</td>\n",
       "      <td>23-07-22</td>\n",
       "      <td>12-07-23</td>\n",
       "      <td>Italy</td>\n",
       "      <td>43</td>\n",
       "      <td>Female</td>\n",
       "      <td>Laptop</td>\n",
       "      <td>1 Month</td>\n",
       "    </tr>\n",
       "    <tr>\n",
       "      <th>2495</th>\n",
       "      <td>2496</td>\n",
       "      <td>Premium</td>\n",
       "      <td>14</td>\n",
       "      <td>25-07-22</td>\n",
       "      <td>12-07-23</td>\n",
       "      <td>Spain</td>\n",
       "      <td>28</td>\n",
       "      <td>Female</td>\n",
       "      <td>Smart TV</td>\n",
       "      <td>1 Month</td>\n",
       "    </tr>\n",
       "    <tr>\n",
       "      <th>2496</th>\n",
       "      <td>2497</td>\n",
       "      <td>Basic</td>\n",
       "      <td>15</td>\n",
       "      <td>04-08-22</td>\n",
       "      <td>14-07-23</td>\n",
       "      <td>Spain</td>\n",
       "      <td>33</td>\n",
       "      <td>Female</td>\n",
       "      <td>Smart TV</td>\n",
       "      <td>1 Month</td>\n",
       "    </tr>\n",
       "    <tr>\n",
       "      <th>2497</th>\n",
       "      <td>2498</td>\n",
       "      <td>Standard</td>\n",
       "      <td>12</td>\n",
       "      <td>09-08-22</td>\n",
       "      <td>15-07-23</td>\n",
       "      <td>United States</td>\n",
       "      <td>38</td>\n",
       "      <td>Male</td>\n",
       "      <td>Laptop</td>\n",
       "      <td>1 Month</td>\n",
       "    </tr>\n",
       "    <tr>\n",
       "      <th>2498</th>\n",
       "      <td>2499</td>\n",
       "      <td>Standard</td>\n",
       "      <td>13</td>\n",
       "      <td>12-08-22</td>\n",
       "      <td>12-07-23</td>\n",
       "      <td>Canada</td>\n",
       "      <td>48</td>\n",
       "      <td>Female</td>\n",
       "      <td>Tablet</td>\n",
       "      <td>1 Month</td>\n",
       "    </tr>\n",
       "    <tr>\n",
       "      <th>2499</th>\n",
       "      <td>2500</td>\n",
       "      <td>Basic</td>\n",
       "      <td>15</td>\n",
       "      <td>13-08-22</td>\n",
       "      <td>12-07-23</td>\n",
       "      <td>United States</td>\n",
       "      <td>35</td>\n",
       "      <td>Female</td>\n",
       "      <td>Smart TV</td>\n",
       "      <td>1 Month</td>\n",
       "    </tr>\n",
       "  </tbody>\n",
       "</table>\n",
       "</div>"
      ],
      "text/plain": [
       "      User ID Subscription Type  Monthly Revenue Join Date Last Payment Date  \\\n",
       "2490     2491           Premium               13  18-07-22          11-07-23   \n",
       "2491     2492             Basic               14  19-07-22          12-07-23   \n",
       "2492     2493          Standard               11  20-07-22          11-07-23   \n",
       "2493     2494           Premium               12  21-07-22          15-07-23   \n",
       "2494     2495             Basic               15  23-07-22          12-07-23   \n",
       "2495     2496           Premium               14  25-07-22          12-07-23   \n",
       "2496     2497             Basic               15  04-08-22          14-07-23   \n",
       "2497     2498          Standard               12  09-08-22          15-07-23   \n",
       "2498     2499          Standard               13  12-08-22          12-07-23   \n",
       "2499     2500             Basic               15  13-08-22          12-07-23   \n",
       "\n",
       "            Country  Age  Gender      Device Plan Duration  \n",
       "2490         France   41  Female  Smartphone       1 Month  \n",
       "2491         Brazil   29  Female      Laptop       1 Month  \n",
       "2492         Mexico   33    Male    Smart TV       1 Month  \n",
       "2493          Spain   36    Male    Smart TV       1 Month  \n",
       "2494          Italy   43  Female      Laptop       1 Month  \n",
       "2495          Spain   28  Female    Smart TV       1 Month  \n",
       "2496          Spain   33  Female    Smart TV       1 Month  \n",
       "2497  United States   38    Male      Laptop       1 Month  \n",
       "2498         Canada   48  Female      Tablet       1 Month  \n",
       "2499  United States   35  Female    Smart TV       1 Month  "
      ]
     },
     "execution_count": 208,
     "metadata": {},
     "output_type": "execute_result"
    }
   ],
   "source": [
    "data.tail(10)"
   ]
  },
  {
   "cell_type": "markdown",
   "id": "9231f1eb",
   "metadata": {},
   "source": [
    "# shape of the dataset. "
   ]
  },
  {
   "cell_type": "code",
   "execution_count": 209,
   "id": "2d51d309",
   "metadata": {},
   "outputs": [
    {
     "data": {
      "text/plain": [
       "(2500, 10)"
      ]
     },
     "execution_count": 209,
     "metadata": {},
     "output_type": "execute_result"
    }
   ],
   "source": [
    "data.shape"
   ]
  },
  {
   "cell_type": "markdown",
   "id": "95970ade",
   "metadata": {},
   "source": [
    "# What are the different types of data present in the dataset "
   ]
  },
  {
   "cell_type": "code",
   "execution_count": 210,
   "id": "781478f6",
   "metadata": {},
   "outputs": [
    {
     "data": {
      "text/html": [
       "<div>\n",
       "<style scoped>\n",
       "    .dataframe tbody tr th:only-of-type {\n",
       "        vertical-align: middle;\n",
       "    }\n",
       "\n",
       "    .dataframe tbody tr th {\n",
       "        vertical-align: top;\n",
       "    }\n",
       "\n",
       "    .dataframe thead th {\n",
       "        text-align: right;\n",
       "    }\n",
       "</style>\n",
       "<table border=\"1\" class=\"dataframe\">\n",
       "  <thead>\n",
       "    <tr style=\"text-align: right;\">\n",
       "      <th></th>\n",
       "      <th>User ID</th>\n",
       "      <th>Monthly Revenue</th>\n",
       "      <th>Age</th>\n",
       "    </tr>\n",
       "  </thead>\n",
       "  <tbody>\n",
       "    <tr>\n",
       "      <th>count</th>\n",
       "      <td>2500.00000</td>\n",
       "      <td>2500.000000</td>\n",
       "      <td>2500.000000</td>\n",
       "    </tr>\n",
       "    <tr>\n",
       "      <th>mean</th>\n",
       "      <td>1250.50000</td>\n",
       "      <td>12.508400</td>\n",
       "      <td>38.795600</td>\n",
       "    </tr>\n",
       "    <tr>\n",
       "      <th>std</th>\n",
       "      <td>721.83216</td>\n",
       "      <td>1.686851</td>\n",
       "      <td>7.171778</td>\n",
       "    </tr>\n",
       "    <tr>\n",
       "      <th>min</th>\n",
       "      <td>1.00000</td>\n",
       "      <td>10.000000</td>\n",
       "      <td>26.000000</td>\n",
       "    </tr>\n",
       "    <tr>\n",
       "      <th>25%</th>\n",
       "      <td>625.75000</td>\n",
       "      <td>11.000000</td>\n",
       "      <td>32.000000</td>\n",
       "    </tr>\n",
       "    <tr>\n",
       "      <th>50%</th>\n",
       "      <td>1250.50000</td>\n",
       "      <td>12.000000</td>\n",
       "      <td>39.000000</td>\n",
       "    </tr>\n",
       "    <tr>\n",
       "      <th>75%</th>\n",
       "      <td>1875.25000</td>\n",
       "      <td>14.000000</td>\n",
       "      <td>45.000000</td>\n",
       "    </tr>\n",
       "    <tr>\n",
       "      <th>max</th>\n",
       "      <td>2500.00000</td>\n",
       "      <td>15.000000</td>\n",
       "      <td>51.000000</td>\n",
       "    </tr>\n",
       "  </tbody>\n",
       "</table>\n",
       "</div>"
      ],
      "text/plain": [
       "          User ID  Monthly Revenue          Age\n",
       "count  2500.00000      2500.000000  2500.000000\n",
       "mean   1250.50000        12.508400    38.795600\n",
       "std     721.83216         1.686851     7.171778\n",
       "min       1.00000        10.000000    26.000000\n",
       "25%     625.75000        11.000000    32.000000\n",
       "50%    1250.50000        12.000000    39.000000\n",
       "75%    1875.25000        14.000000    45.000000\n",
       "max    2500.00000        15.000000    51.000000"
      ]
     },
     "execution_count": 210,
     "metadata": {},
     "output_type": "execute_result"
    }
   ],
   "source": [
    "data.describe()"
   ]
  },
  {
   "cell_type": "markdown",
   "id": "863ea3fb",
   "metadata": {},
   "source": [
    "# Are there any missing values in the dataset?"
   ]
  },
  {
   "cell_type": "code",
   "execution_count": 211,
   "id": "f482a58a",
   "metadata": {},
   "outputs": [
    {
     "data": {
      "text/html": [
       "<div>\n",
       "<style scoped>\n",
       "    .dataframe tbody tr th:only-of-type {\n",
       "        vertical-align: middle;\n",
       "    }\n",
       "\n",
       "    .dataframe tbody tr th {\n",
       "        vertical-align: top;\n",
       "    }\n",
       "\n",
       "    .dataframe thead th {\n",
       "        text-align: right;\n",
       "    }\n",
       "</style>\n",
       "<table border=\"1\" class=\"dataframe\">\n",
       "  <thead>\n",
       "    <tr style=\"text-align: right;\">\n",
       "      <th></th>\n",
       "      <th>User ID</th>\n",
       "      <th>Subscription Type</th>\n",
       "      <th>Monthly Revenue</th>\n",
       "      <th>Join Date</th>\n",
       "      <th>Last Payment Date</th>\n",
       "      <th>Country</th>\n",
       "      <th>Age</th>\n",
       "      <th>Gender</th>\n",
       "      <th>Device</th>\n",
       "      <th>Plan Duration</th>\n",
       "    </tr>\n",
       "  </thead>\n",
       "  <tbody>\n",
       "    <tr>\n",
       "      <th>0</th>\n",
       "      <td>False</td>\n",
       "      <td>False</td>\n",
       "      <td>False</td>\n",
       "      <td>False</td>\n",
       "      <td>False</td>\n",
       "      <td>False</td>\n",
       "      <td>False</td>\n",
       "      <td>False</td>\n",
       "      <td>False</td>\n",
       "      <td>False</td>\n",
       "    </tr>\n",
       "    <tr>\n",
       "      <th>1</th>\n",
       "      <td>False</td>\n",
       "      <td>False</td>\n",
       "      <td>False</td>\n",
       "      <td>False</td>\n",
       "      <td>False</td>\n",
       "      <td>False</td>\n",
       "      <td>False</td>\n",
       "      <td>False</td>\n",
       "      <td>False</td>\n",
       "      <td>False</td>\n",
       "    </tr>\n",
       "    <tr>\n",
       "      <th>2</th>\n",
       "      <td>False</td>\n",
       "      <td>False</td>\n",
       "      <td>False</td>\n",
       "      <td>False</td>\n",
       "      <td>False</td>\n",
       "      <td>False</td>\n",
       "      <td>False</td>\n",
       "      <td>False</td>\n",
       "      <td>False</td>\n",
       "      <td>False</td>\n",
       "    </tr>\n",
       "    <tr>\n",
       "      <th>3</th>\n",
       "      <td>False</td>\n",
       "      <td>False</td>\n",
       "      <td>False</td>\n",
       "      <td>False</td>\n",
       "      <td>False</td>\n",
       "      <td>False</td>\n",
       "      <td>False</td>\n",
       "      <td>False</td>\n",
       "      <td>False</td>\n",
       "      <td>False</td>\n",
       "    </tr>\n",
       "    <tr>\n",
       "      <th>4</th>\n",
       "      <td>False</td>\n",
       "      <td>False</td>\n",
       "      <td>False</td>\n",
       "      <td>False</td>\n",
       "      <td>False</td>\n",
       "      <td>False</td>\n",
       "      <td>False</td>\n",
       "      <td>False</td>\n",
       "      <td>False</td>\n",
       "      <td>False</td>\n",
       "    </tr>\n",
       "    <tr>\n",
       "      <th>...</th>\n",
       "      <td>...</td>\n",
       "      <td>...</td>\n",
       "      <td>...</td>\n",
       "      <td>...</td>\n",
       "      <td>...</td>\n",
       "      <td>...</td>\n",
       "      <td>...</td>\n",
       "      <td>...</td>\n",
       "      <td>...</td>\n",
       "      <td>...</td>\n",
       "    </tr>\n",
       "    <tr>\n",
       "      <th>2495</th>\n",
       "      <td>False</td>\n",
       "      <td>False</td>\n",
       "      <td>False</td>\n",
       "      <td>False</td>\n",
       "      <td>False</td>\n",
       "      <td>False</td>\n",
       "      <td>False</td>\n",
       "      <td>False</td>\n",
       "      <td>False</td>\n",
       "      <td>False</td>\n",
       "    </tr>\n",
       "    <tr>\n",
       "      <th>2496</th>\n",
       "      <td>False</td>\n",
       "      <td>False</td>\n",
       "      <td>False</td>\n",
       "      <td>False</td>\n",
       "      <td>False</td>\n",
       "      <td>False</td>\n",
       "      <td>False</td>\n",
       "      <td>False</td>\n",
       "      <td>False</td>\n",
       "      <td>False</td>\n",
       "    </tr>\n",
       "    <tr>\n",
       "      <th>2497</th>\n",
       "      <td>False</td>\n",
       "      <td>False</td>\n",
       "      <td>False</td>\n",
       "      <td>False</td>\n",
       "      <td>False</td>\n",
       "      <td>False</td>\n",
       "      <td>False</td>\n",
       "      <td>False</td>\n",
       "      <td>False</td>\n",
       "      <td>False</td>\n",
       "    </tr>\n",
       "    <tr>\n",
       "      <th>2498</th>\n",
       "      <td>False</td>\n",
       "      <td>False</td>\n",
       "      <td>False</td>\n",
       "      <td>False</td>\n",
       "      <td>False</td>\n",
       "      <td>False</td>\n",
       "      <td>False</td>\n",
       "      <td>False</td>\n",
       "      <td>False</td>\n",
       "      <td>False</td>\n",
       "    </tr>\n",
       "    <tr>\n",
       "      <th>2499</th>\n",
       "      <td>False</td>\n",
       "      <td>False</td>\n",
       "      <td>False</td>\n",
       "      <td>False</td>\n",
       "      <td>False</td>\n",
       "      <td>False</td>\n",
       "      <td>False</td>\n",
       "      <td>False</td>\n",
       "      <td>False</td>\n",
       "      <td>False</td>\n",
       "    </tr>\n",
       "  </tbody>\n",
       "</table>\n",
       "<p>2500 rows × 10 columns</p>\n",
       "</div>"
      ],
      "text/plain": [
       "      User ID  Subscription Type  Monthly Revenue  Join Date  \\\n",
       "0       False              False            False      False   \n",
       "1       False              False            False      False   \n",
       "2       False              False            False      False   \n",
       "3       False              False            False      False   \n",
       "4       False              False            False      False   \n",
       "...       ...                ...              ...        ...   \n",
       "2495    False              False            False      False   \n",
       "2496    False              False            False      False   \n",
       "2497    False              False            False      False   \n",
       "2498    False              False            False      False   \n",
       "2499    False              False            False      False   \n",
       "\n",
       "      Last Payment Date  Country    Age  Gender  Device  Plan Duration  \n",
       "0                 False    False  False   False   False          False  \n",
       "1                 False    False  False   False   False          False  \n",
       "2                 False    False  False   False   False          False  \n",
       "3                 False    False  False   False   False          False  \n",
       "4                 False    False  False   False   False          False  \n",
       "...                 ...      ...    ...     ...     ...            ...  \n",
       "2495              False    False  False   False   False          False  \n",
       "2496              False    False  False   False   False          False  \n",
       "2497              False    False  False   False   False          False  \n",
       "2498              False    False  False   False   False          False  \n",
       "2499              False    False  False   False   False          False  \n",
       "\n",
       "[2500 rows x 10 columns]"
      ]
     },
     "execution_count": 211,
     "metadata": {},
     "output_type": "execute_result"
    }
   ],
   "source": [
    "data.isnull()"
   ]
  },
  {
   "cell_type": "markdown",
   "id": "0dce12ea",
   "metadata": {},
   "source": [
    "# If so, which attributes have missing values and how many?"
   ]
  },
  {
   "cell_type": "code",
   "execution_count": 212,
   "id": "f5c4f9e2",
   "metadata": {},
   "outputs": [
    {
     "data": {
      "text/plain": [
       "User ID              0\n",
       "Subscription Type    0\n",
       "Monthly Revenue      0\n",
       "Join Date            0\n",
       "Last Payment Date    0\n",
       "Country              0\n",
       "Age                  0\n",
       "Gender               0\n",
       "Device               0\n",
       "Plan Duration        0\n",
       "dtype: int64"
      ]
     },
     "execution_count": 212,
     "metadata": {},
     "output_type": "execute_result"
    }
   ],
   "source": [
    "data.isna().sum()"
   ]
  },
  {
   "cell_type": "code",
   "execution_count": 213,
   "id": "b8dee199",
   "metadata": {},
   "outputs": [
    {
     "data": {
      "text/plain": [
       "0"
      ]
     },
     "execution_count": 213,
     "metadata": {},
     "output_type": "execute_result"
    }
   ],
   "source": [
    "data.isna().sum().sum()"
   ]
  },
  {
   "cell_type": "markdown",
   "id": "92c27549",
   "metadata": {},
   "source": [
    "# find the duplicate values present in the dataset."
   ]
  },
  {
   "cell_type": "code",
   "execution_count": 214,
   "id": "c9f90691",
   "metadata": {},
   "outputs": [
    {
     "data": {
      "text/plain": [
       "0       False\n",
       "1       False\n",
       "2       False\n",
       "3       False\n",
       "4       False\n",
       "        ...  \n",
       "2495    False\n",
       "2496    False\n",
       "2497    False\n",
       "2498    False\n",
       "2499    False\n",
       "Length: 2500, dtype: bool"
      ]
     },
     "execution_count": 214,
     "metadata": {},
     "output_type": "execute_result"
    }
   ],
   "source": [
    "data.duplicated()"
   ]
  },
  {
   "cell_type": "code",
   "execution_count": 215,
   "id": "7852cf3d",
   "metadata": {},
   "outputs": [
    {
     "data": {
      "text/plain": [
       "0"
      ]
     },
     "execution_count": 215,
     "metadata": {},
     "output_type": "execute_result"
    }
   ],
   "source": [
    "data.duplicated().sum()"
   ]
  },
  {
   "cell_type": "code",
   "execution_count": 216,
   "id": "55df3a61",
   "metadata": {},
   "outputs": [
    {
     "data": {
      "text/html": [
       "<div>\n",
       "<style scoped>\n",
       "    .dataframe tbody tr th:only-of-type {\n",
       "        vertical-align: middle;\n",
       "    }\n",
       "\n",
       "    .dataframe tbody tr th {\n",
       "        vertical-align: top;\n",
       "    }\n",
       "\n",
       "    .dataframe thead th {\n",
       "        text-align: right;\n",
       "    }\n",
       "</style>\n",
       "<table border=\"1\" class=\"dataframe\">\n",
       "  <thead>\n",
       "    <tr style=\"text-align: right;\">\n",
       "      <th></th>\n",
       "      <th>User ID</th>\n",
       "      <th>Subscription Type</th>\n",
       "      <th>Monthly Revenue</th>\n",
       "      <th>Join Date</th>\n",
       "      <th>Last Payment Date</th>\n",
       "      <th>Country</th>\n",
       "      <th>Age</th>\n",
       "      <th>Gender</th>\n",
       "      <th>Device</th>\n",
       "      <th>Plan Duration</th>\n",
       "    </tr>\n",
       "  </thead>\n",
       "  <tbody>\n",
       "  </tbody>\n",
       "</table>\n",
       "</div>"
      ],
      "text/plain": [
       "Empty DataFrame\n",
       "Columns: [User ID, Subscription Type, Monthly Revenue, Join Date, Last Payment Date, Country, Age, Gender, Device, Plan Duration]\n",
       "Index: []"
      ]
     },
     "execution_count": 216,
     "metadata": {},
     "output_type": "execute_result"
    }
   ],
   "source": [
    "duplicates=data[data.duplicated()]\n",
    "duplicates"
   ]
  },
  {
   "cell_type": "markdown",
   "id": "b5466704",
   "metadata": {},
   "source": [
    "#  What are the column headers or attributes in the dataset?"
   ]
  },
  {
   "cell_type": "code",
   "execution_count": 217,
   "id": "117a40e4",
   "metadata": {},
   "outputs": [
    {
     "data": {
      "text/plain": [
       "Index(['User ID', 'Subscription Type', 'Monthly Revenue', 'Join Date',\n",
       "       'Last Payment Date', 'Country', 'Age', 'Gender', 'Device',\n",
       "       'Plan Duration'],\n",
       "      dtype='object')"
      ]
     },
     "execution_count": 217,
     "metadata": {},
     "output_type": "execute_result"
    }
   ],
   "source": [
    "data.columns"
   ]
  },
  {
   "cell_type": "markdown",
   "id": "ca3c3a39",
   "metadata": {},
   "source": [
    "# How many rows (entries) are there in the dataset?"
   ]
  },
  {
   "cell_type": "code",
   "execution_count": 218,
   "id": "cae5fd5c",
   "metadata": {},
   "outputs": [
    {
     "name": "stdout",
     "output_type": "stream",
     "text": [
      "2500\n"
     ]
    }
   ],
   "source": [
    "print(len(data))"
   ]
  },
  {
   "cell_type": "markdown",
   "id": "455e76f5",
   "metadata": {},
   "source": [
    "# What are the different types of data present in the dataset (e.g., numerical, categorical)?"
   ]
  },
  {
   "cell_type": "code",
   "execution_count": 219,
   "id": "8fb2a4df",
   "metadata": {},
   "outputs": [
    {
     "data": {
      "text/plain": [
       "User ID               int64\n",
       "Subscription Type    object\n",
       "Monthly Revenue       int64\n",
       "Join Date            object\n",
       "Last Payment Date    object\n",
       "Country              object\n",
       "Age                   int64\n",
       "Gender               object\n",
       "Device               object\n",
       "Plan Duration        object\n",
       "dtype: object"
      ]
     },
     "execution_count": 219,
     "metadata": {},
     "output_type": "execute_result"
    }
   ],
   "source": [
    "data.dtypes"
   ]
  },
  {
   "cell_type": "markdown",
   "id": "b8794fbe",
   "metadata": {},
   "source": [
    "# What is the range of values for each numerical attribute in the dataset?"
   ]
  },
  {
   "cell_type": "code",
   "execution_count": 220,
   "id": "8e952186",
   "metadata": {},
   "outputs": [
    {
     "data": {
      "text/html": [
       "<div>\n",
       "<style scoped>\n",
       "    .dataframe tbody tr th:only-of-type {\n",
       "        vertical-align: middle;\n",
       "    }\n",
       "\n",
       "    .dataframe tbody tr th {\n",
       "        vertical-align: top;\n",
       "    }\n",
       "\n",
       "    .dataframe thead th {\n",
       "        text-align: right;\n",
       "    }\n",
       "</style>\n",
       "<table border=\"1\" class=\"dataframe\">\n",
       "  <thead>\n",
       "    <tr style=\"text-align: right;\">\n",
       "      <th></th>\n",
       "      <th>User ID</th>\n",
       "      <th>Monthly Revenue</th>\n",
       "      <th>Age</th>\n",
       "    </tr>\n",
       "  </thead>\n",
       "  <tbody>\n",
       "    <tr>\n",
       "      <th>max</th>\n",
       "      <td>2500.0</td>\n",
       "      <td>15.0</td>\n",
       "      <td>51.0</td>\n",
       "    </tr>\n",
       "    <tr>\n",
       "      <th>min</th>\n",
       "      <td>1.0</td>\n",
       "      <td>10.0</td>\n",
       "      <td>26.0</td>\n",
       "    </tr>\n",
       "  </tbody>\n",
       "</table>\n",
       "</div>"
      ],
      "text/plain": [
       "     User ID  Monthly Revenue   Age\n",
       "max   2500.0             15.0  51.0\n",
       "min      1.0             10.0  26.0"
      ]
     },
     "execution_count": 220,
     "metadata": {},
     "output_type": "execute_result"
    }
   ],
   "source": [
    "data[numerical_columns].describe().loc[['max','min']]"
   ]
  },
  {
   "cell_type": "markdown",
   "id": "a6409e89",
   "metadata": {},
   "source": [
    "# What is the distribution of user demographics (age, gender) in the dataset?"
   ]
  },
  {
   "cell_type": "code",
   "execution_count": 221,
   "id": "74281cff",
   "metadata": {},
   "outputs": [
    {
     "name": "stdout",
     "output_type": "stream",
     "text": [
      "age_disturbution 39    116\n",
      "30    116\n",
      "28    115\n",
      "31    115\n",
      "41    114\n",
      "47    111\n",
      "37    107\n",
      "35    105\n",
      "29    104\n",
      "40    103\n",
      "42    102\n",
      "48    101\n",
      "46     99\n",
      "36     99\n",
      "49     97\n",
      "43     94\n",
      "33     93\n",
      "51     93\n",
      "32     92\n",
      "45     89\n",
      "38     89\n",
      "34     88\n",
      "27     87\n",
      "44     86\n",
      "50     84\n",
      "26      1\n",
      "Name: Age, dtype: int64\n"
     ]
    }
   ],
   "source": [
    "age_disturbution=data['Age'].value_counts()\n",
    "print('age_disturbution',age_disturbution)\n",
    "\n"
   ]
  },
  {
   "cell_type": "code",
   "execution_count": 222,
   "id": "ca28e680",
   "metadata": {},
   "outputs": [
    {
     "name": "stdout",
     "output_type": "stream",
     "text": [
      "Gender_disturbution Female    1257\n",
      "Male      1243\n",
      "Name: Gender, dtype: int64\n"
     ]
    }
   ],
   "source": [
    "gender_disturbution= data['Gender'].value_counts()\n",
    "print('Gender_disturbution',gender_disturbution)"
   ]
  },
  {
   "cell_type": "markdown",
   "id": "7d03c641",
   "metadata": {},
   "source": [
    "# What is the average age of Netflix users in the dataset?\n"
   ]
  },
  {
   "cell_type": "code",
   "execution_count": 223,
   "id": "e704a4c3",
   "metadata": {},
   "outputs": [
    {
     "data": {
      "text/plain": [
       "38.7956"
      ]
     },
     "execution_count": 223,
     "metadata": {},
     "output_type": "execute_result"
    }
   ],
   "source": [
    "data['Age'].mean()"
   ]
  },
  {
   "cell_type": "markdown",
   "id": "a5988860",
   "metadata": {},
   "source": [
    "# How many male and female users are there in the dataset?"
   ]
  },
  {
   "cell_type": "code",
   "execution_count": 224,
   "id": "1b5c94e5",
   "metadata": {},
   "outputs": [
    {
     "data": {
      "text/plain": [
       "Female    1257\n",
       "Male      1243\n",
       "Name: Gender, dtype: int64"
      ]
     },
     "execution_count": 224,
     "metadata": {},
     "output_type": "execute_result"
    }
   ],
   "source": [
    "data['Gender'].value_counts()"
   ]
  },
  {
   "cell_type": "markdown",
   "id": "ccfac501",
   "metadata": {},
   "source": [
    "# Which countries have the highest number of Netflix users in the dataset?"
   ]
  },
  {
   "cell_type": "code",
   "execution_count": 225,
   "id": "8ee3b950",
   "metadata": {},
   "outputs": [
    {
     "data": {
      "text/plain": [
       "United States     451\n",
       "Spain             451\n",
       "Canada            317\n",
       "United Kingdom    183\n",
       "Australia         183\n",
       "Name: Country, dtype: int64"
      ]
     },
     "execution_count": 225,
     "metadata": {},
     "output_type": "execute_result"
    }
   ],
   "source": [
    "data['Country'].value_counts().head()"
   ]
  },
  {
   "cell_type": "markdown",
   "id": "1f59d81e",
   "metadata": {},
   "source": [
    "# Can we identify any correlations between user attributes (e.g., age, country) "
   ]
  },
  {
   "cell_type": "code",
   "execution_count": 226,
   "id": "044ed00e",
   "metadata": {
    "scrolled": true
   },
   "outputs": [
    {
     "data": {
      "text/html": [
       "<div>\n",
       "<style scoped>\n",
       "    .dataframe tbody tr th:only-of-type {\n",
       "        vertical-align: middle;\n",
       "    }\n",
       "\n",
       "    .dataframe tbody tr th {\n",
       "        vertical-align: top;\n",
       "    }\n",
       "\n",
       "    .dataframe thead th {\n",
       "        text-align: right;\n",
       "    }\n",
       "</style>\n",
       "<table border=\"1\" class=\"dataframe\">\n",
       "  <thead>\n",
       "    <tr style=\"text-align: right;\">\n",
       "      <th></th>\n",
       "      <th>Age</th>\n",
       "      <th>Monthly Revenue</th>\n",
       "    </tr>\n",
       "  </thead>\n",
       "  <tbody>\n",
       "    <tr>\n",
       "      <th>Age</th>\n",
       "      <td>1.000000</td>\n",
       "      <td>-0.021143</td>\n",
       "    </tr>\n",
       "    <tr>\n",
       "      <th>Monthly Revenue</th>\n",
       "      <td>-0.021143</td>\n",
       "      <td>1.000000</td>\n",
       "    </tr>\n",
       "  </tbody>\n",
       "</table>\n",
       "</div>"
      ],
      "text/plain": [
       "                      Age  Monthly Revenue\n",
       "Age              1.000000        -0.021143\n",
       "Monthly Revenue -0.021143         1.000000"
      ]
     },
     "execution_count": 226,
     "metadata": {},
     "output_type": "execute_result"
    }
   ],
   "source": [
    "data[['Age','Monthly Revenue']].corr()"
   ]
  },
  {
   "cell_type": "markdown",
   "id": "85f52e44",
   "metadata": {},
   "source": [
    "# most preferred subscription type people."
   ]
  },
  {
   "cell_type": "code",
   "execution_count": 227,
   "id": "ba36b4ec",
   "metadata": {},
   "outputs": [
    {
     "data": {
      "text/plain": [
       "'Basic'"
      ]
     },
     "execution_count": 227,
     "metadata": {},
     "output_type": "execute_result"
    }
   ],
   "source": [
    "data['Subscription Type'].value_counts().idxmax()"
   ]
  },
  {
   "cell_type": "markdown",
   "id": "a42199f6",
   "metadata": {},
   "source": [
    "# 1. Bar plot - Gender distribution"
   ]
  },
  {
   "cell_type": "code",
   "execution_count": 228,
   "id": "530bbc5a",
   "metadata": {},
   "outputs": [
    {
     "data": {
      "image/png": "[encoded data removed]",
      "text/plain": [
       "<Figure size 640x480 with 1 Axes>"
      ]
     },
     "metadata": {},
     "output_type": "display_data"
    }
   ],
   "source": [
    "sns.countplot(x='Gender',data=data)\n",
    "plt.title('Gender disturbution')\n",
    "plt.xlabel('Gender')\n",
    "plt.ylabel('count')\n",
    "plt.show()"
   ]
  },
  {
   "cell_type": "markdown",
   "id": "91b5672d",
   "metadata": {},
   "source": [
    "# Bar plot - Age group distribution"
   ]
  },
  {
   "cell_type": "code",
   "execution_count": 229,
   "id": "99ab1a24",
   "metadata": {},
   "outputs": [
    {
     "data": {
      "image/png": "[encoded data removed]",
      "text/plain": [
       "<Figure size 640x480 with 1 Axes>"
      ]
     },
     "metadata": {},
     "output_type": "display_data"
    }
   ],
   "source": [
    "sns.countplot(x='Age',data=data)\n",
    "plt.title('age disturbution')\n",
    "plt.xlabel('age')\n",
    "plt.ylabel('count')\n",
    "plt.show()\n"
   ]
  },
  {
   "cell_type": "markdown",
   "id": "03d58199",
   "metadata": {},
   "source": [
    "# 3. Pie chart - Subscription types"
   ]
  },
  {
   "cell_type": "code",
   "execution_count": 230,
   "id": "ed03f049",
   "metadata": {},
   "outputs": [
    {
     "data": {
      "image/png": "[encoded data removed]",
      "text/plain": [
       "<Figure size 640x480 with 1 Axes>"
      ]
     },
     "metadata": {},
     "output_type": "display_data"
    }
   ],
   "source": [
    "\n",
    "subscription_count=data['Subscription Type'].value_counts()\n",
    "\n",
    "plt.pie(subscription_count, labels=subscription_count.index, autopct='%1.1f%%')\n",
    "plt.title('Subscription types')\n",
    "plt.show()"
   ]
  },
  {
   "cell_type": "markdown",
   "id": "5b86ad57",
   "metadata": {},
   "source": [
    "#  Box plot - Monthly revenue by subscription type"
   ]
  },
  {
   "cell_type": "code",
   "execution_count": 231,
   "id": "96d42eda",
   "metadata": {},
   "outputs": [
    {
     "data": {
      "image/png": "[encoded data removed]",
      "text/plain": [
       "<Figure size 640x480 with 1 Axes>"
      ]
     },
     "metadata": {},
     "output_type": "display_data"
    }
   ],
   "source": [
    "sns.boxplot(x='Subscription Type',y='Monthly Revenue',data=data)\n",
    "plt.title('Monthly revenue by subscription type')\n",
    "plt.xlabel('Subscription Type')\n",
    "plt.ylabel('Monthly Revenue')\n",
    "plt.show()"
   ]
  },
  {
   "cell_type": "markdown",
   "id": "0eac2feb",
   "metadata": {},
   "source": [
    "# Heatmap (correlation matrix)"
   ]
  },
  {
   "cell_type": "code",
   "execution_count": 232,
   "id": "b5b6295e",
   "metadata": {},
   "outputs": [
    {
     "data": {
      "image/png": "[encoded data removed]",
      "text/plain": [
       "<Figure size 640x480 with 2 Axes>"
      ]
     },
     "metadata": {},
     "output_type": "display_data"
    }
   ],
   "source": [
    "corr_matrix=data[['Monthly Revenue','Age']].corr()\n",
    "sns.heatmap(corr_matrix,annot=True, cmap='coolwarm')\n",
    "plt.title('correlation Matrix')\n",
    "plt.show()\n"
   ]
  },
  {
   "cell_type": "markdown",
   "id": "0f0cab5a",
   "metadata": {},
   "source": [
    "#  Bar plot - Country distribution"
   ]
  },
  {
   "cell_type": "code",
   "execution_count": 233,
   "id": "dff6d7f9",
   "metadata": {},
   "outputs": [
    {
     "data": {
      "image/png": "[encoded data removed]",
      "text/plain": [
       "<Figure size 640x480 with 1 Axes>"
      ]
     },
     "metadata": {},
     "output_type": "display_data"
    }
   ],
   "source": [
    "sns.countplot(y='Country',data=data)\n",
    "plt.title('Country distribution')\n",
    "plt.xlabel('Count')\n",
    "plt.ylabel('Country')\n",
    "plt.show()"
   ]
  },
  {
   "cell_type": "markdown",
   "id": "d64fc235",
   "metadata": {},
   "source": [
    "#  Box plot - Monthly revenue by gender"
   ]
  },
  {
   "cell_type": "code",
   "execution_count": 234,
   "id": "7ff5b1ec",
   "metadata": {},
   "outputs": [
    {
     "data": {
      "image/png": "[encoded data removed]",
      "text/plain": [
       "<Figure size 640x480 with 1 Axes>"
      ]
     },
     "metadata": {},
     "output_type": "display_data"
    }
   ],
   "source": [
    "sns.boxplot(x='Gender',y='Monthly Revenue',data=data)\n",
    "plt.title('Monthly revenue by gender')\n",
    "plt.xlabel('Gender')\n",
    "plt.ylabel('Monthly Revenue')\n",
    "plt.show()"
   ]
  },
  {
   "cell_type": "markdown",
   "id": "7ccb5467",
   "metadata": {},
   "source": [
    "# Violin plot - Age distribution by subscription type\n"
   ]
  },
  {
   "cell_type": "code",
   "execution_count": 235,
   "id": "97948f82",
   "metadata": {},
   "outputs": [
    {
     "data": {
      "image/png": "[encoded data removed]",
      "text/plain": [
       "<Figure size 640x480 with 1 Axes>"
      ]
     },
     "metadata": {},
     "output_type": "display_data"
    }
   ],
   "source": [
    "sns.violinplot(x='Subscription Type',y='Age',data=data)\n",
    "plt.title('Age distribution by subscription type')\n",
    "plt.xlabel('Subscription Type')\n",
    "plt.ylabel('Age')\n",
    "plt.show()"
   ]
  },
  {
   "cell_type": "markdown",
   "id": "4f73fee2",
   "metadata": {},
   "source": [
    "# Count plot - Device usage"
   ]
  },
  {
   "cell_type": "code",
   "execution_count": 236,
   "id": "427fe038",
   "metadata": {},
   "outputs": [
    {
     "data": {
      "image/png": "[encoded data removed]",
      "text/plain": [
       "<Figure size 640x480 with 1 Axes>"
      ]
     },
     "metadata": {},
     "output_type": "display_data"
    }
   ],
   "source": [
    "sns.countplot(x='Device',data=data)\n",
    "plt.title('Device usage')\n",
    "plt.xlabel('Device')\n",
    "plt.ylabel('count')\n",
    "plt.show()"
   ]
  },
  {
   "cell_type": "markdown",
   "id": "34a35491",
   "metadata": {},
   "source": [
    "# Scatter plot - Monthly revenue vs. Plan Duration"
   ]
  },
  {
   "cell_type": "code",
   "execution_count": 237,
   "id": "8ddda249",
   "metadata": {},
   "outputs": [
    {
     "data": {
      "image/png": "[encoded data removed]",
      "text/plain": [
       "<Figure size 640x480 with 1 Axes>"
      ]
     },
     "metadata": {},
     "output_type": "display_data"
    }
   ],
   "source": [
    "sns.scatterplot(x='Plan Duration', y='Monthly Revenue', data=data)\n",
    "plt.title('Monthly Revenue vs. Plan Duration')\n",
    "plt.xlabel('Plan Duration')\n",
    "plt.ylabel('Monthly Revenue')\n",
    "plt.show()"
   ]
  }
 ],
 "metadata": {
  "kernelspec": {
   "display_name": "Python 3 (ipykernel)",
   "language": "python",
   "name": "python3"
  },
  "language_info": {
   "codemirror_mode": {
    "name": "ipython",
    "version": 3
   },
   "file_extension": ".py",
   "mimetype": "text/x-python",
   "name": "python",
   "nbconvert_exporter": "python",
   "pygments_lexer": "ipython3",
   "version": "3.10.9"
  }
 },
 "nbformat": 4,
 "nbformat_minor": 5
}
